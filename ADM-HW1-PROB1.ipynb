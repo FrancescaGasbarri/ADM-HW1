{
 "cells": [
  {
   "cell_type": "markdown",
   "id": "b6856d0f",
   "metadata": {},
   "source": [
    "# Say \"Hello, World!\" With Python"
   ]
  },
  {
   "cell_type": "code",
   "execution_count": null,
   "id": "9c8a8c05",
   "metadata": {},
   "outputs": [],
   "source": [
    "print(\"Hello, World!\")"
   ]
  },
  {
   "cell_type": "markdown",
   "id": "73be8cde",
   "metadata": {},
   "source": [
    "# Python If-Else"
   ]
  },
  {
   "cell_type": "code",
   "execution_count": null,
   "id": "86d12db1",
   "metadata": {},
   "outputs": [],
   "source": [
    "#!/bin/python3\n",
    "\n",
    "import math\n",
    "import os\n",
    "import random\n",
    "import re\n",
    "import sys\n",
    "\n",
    "\n",
    "\n",
    "if __name__ == '__main__':\n",
    "    n = int(input().strip())\n",
    "    if n in range(1,101):\n",
    "        if (n % 2) != 0:\n",
    "            print(\"Weird\");\n",
    "        else:\n",
    "            if n >=2 and n<=5:\n",
    "                print(\"Not Weird\");\n",
    "            if n>=6 and n<=20:\n",
    "                print(\"Weird\");\n",
    "            if n>20:\n",
    "                print(\"Not Weird\");\n",
    "    else:\n",
    "        raise ValueError;"
   ]
  },
  {
   "cell_type": "markdown",
   "id": "644d7565",
   "metadata": {},
   "source": [
    "# Arithmetic Operators"
   ]
  },
  {
   "cell_type": "code",
   "execution_count": null,
   "id": "2ca960a3",
   "metadata": {},
   "outputs": [],
   "source": [
    "if __name__ == '__main__':\n",
    "    a = int(input())\n",
    "    b = int(input())\n",
    "    if a>=1 and b>=1 and a<=10**10 and b<=10**10:\n",
    "        summ = a+b\n",
    "        diff = a-b\n",
    "        prodd = a*b\n",
    "        print(summ)\n",
    "        print(diff)\n",
    "        print(prodd)\n",
    "    else:\n",
    "        raise ValueError"
   ]
  },
  {
   "cell_type": "markdown",
   "id": "07640e00",
   "metadata": {},
   "source": [
    "# Python: Division"
   ]
  },
  {
   "cell_type": "code",
   "execution_count": null,
   "id": "b8ed94e2",
   "metadata": {},
   "outputs": [],
   "source": [
    "if __name__ == '__main__':\n",
    "    a = int(input())\n",
    "    b = int(input())\n",
    "    div=a//b\n",
    "    div2=a/b\n",
    "    print(div)\n",
    "    print(div2)"
   ]
  },
  {
   "cell_type": "markdown",
   "id": "9a9abb47",
   "metadata": {},
   "source": [
    "# Loops"
   ]
  },
  {
   "cell_type": "code",
   "execution_count": null,
   "id": "c97a730c",
   "metadata": {},
   "outputs": [],
   "source": [
    "if __name__ == '__main__':\n",
    "    n = int(input())\n",
    "    if n not in range(1,21):\n",
    "        raise ValueError\n",
    "    else:\n",
    "        a = []\n",
    "        for i in range(0,n):\n",
    "            a.append(i**2)\n",
    "            print(a[i])"
   ]
  },
  {
   "cell_type": "markdown",
   "id": "6ed7c0bb",
   "metadata": {},
   "source": [
    "# Print Function\n",
    "\n"
   ]
  },
  {
   "cell_type": "code",
   "execution_count": null,
   "id": "66745108",
   "metadata": {},
   "outputs": [],
   "source": [
    "if __name__ == '__main__':\n",
    "    n = int(input())\n",
    "if n not in range(1,151):\n",
    "    raise ValueError\n",
    "else:\n",
    "    for x in range(1, n+1):\n",
    "        print(x, end=\"\")"
   ]
  },
  {
   "cell_type": "markdown",
   "id": "92df07e3",
   "metadata": {},
   "source": [
    "# Write a function"
   ]
  },
  {
   "cell_type": "code",
   "execution_count": null,
   "id": "70b270f7",
   "metadata": {},
   "outputs": [],
   "source": [
    "def is_leap(year):\n",
    "    if year<1900 and year>10**5:\n",
    "        raise ValueError\n",
    "    else:\n",
    "        leap = False\n",
    "        if (year%4) == 0 and (year%100) !=0:\n",
    "            leap = True\n",
    "        elif (year%100) == 0 and(year%400) ==0:\n",
    "            leap = True\n",
    "        return leap"
   ]
  },
  {
   "cell_type": "markdown",
   "id": "81abbc92",
   "metadata": {},
   "source": [
    "# Find the Runner-Up Score!"
   ]
  },
  {
   "cell_type": "code",
   "execution_count": null,
   "id": "9cdb519b",
   "metadata": {},
   "outputs": [],
   "source": [
    "if __name__ == '__main__':\n",
    "    n = int(input())\n",
    "    arr = map(int, input().split())\n",
    "    lista= list(set(arr))\n",
    "    lista.sort()\n",
    "    if n>=2 and n<= 10 and lista[0]>=-100 and lista[-1]<=100:\n",
    "        print(lista[-2])\n",
    "    else:\n",
    "        raise ValueError"
   ]
  },
  {
   "cell_type": "markdown",
   "id": "84aa5e8b",
   "metadata": {},
   "source": [
    "# Tuples"
   ]
  },
  {
   "cell_type": "code",
   "execution_count": null,
   "id": "e1e60263",
   "metadata": {},
   "outputs": [],
   "source": [
    "if __name__ == '__main__':\n",
    "    n = int(input())\n",
    "    integer_list = map(int, input().split())\n",
    "    print(hash(tuple(integer_list)))"
   ]
  },
  {
   "cell_type": "markdown",
   "id": "c3c869f5",
   "metadata": {},
   "source": [
    "# Finding the percentage"
   ]
  },
  {
   "cell_type": "code",
   "execution_count": null,
   "id": "04afe474",
   "metadata": {},
   "outputs": [],
   "source": [
    "if __name__ == '__main__':\n",
    "    n = int(input())\n",
    "    student_marks = {}\n",
    "    for _ in range(n):\n",
    "        name, *line = input().split()\n",
    "        scores = list(map(float, line))\n",
    "        student_marks[name] = scores\n",
    "    query_name = input()\n",
    "    if n<2 or n>10:\n",
    "        raise ValueError\n",
    "    for x in scores:\n",
    "        if x<0 or x>100:\n",
    "            raise ValueError\n",
    "    average= round(sum(student_marks[query_name])/len(student_marks[query_name]), 2)\n",
    "    print(\"{:.2f}\".format(average))"
   ]
  },
  {
   "cell_type": "markdown",
   "id": "54f6e0b2",
   "metadata": {},
   "source": [
    "# List Comprehensions"
   ]
  },
  {
   "cell_type": "code",
   "execution_count": null,
   "id": "70bd9c78",
   "metadata": {},
   "outputs": [],
   "source": [
    "if __name__ == '__main__':\n",
    "    x = int(input())\n",
    "    y = int(input())\n",
    "    z = int(input())\n",
    "    n = int(input())\n",
    "    print(list([i, j, k] for i in range(x+1) for j in range(y+1) for k in range(z+1) if i+j+k!=n))"
   ]
  },
  {
   "cell_type": "markdown",
   "id": "0062b81c",
   "metadata": {},
   "source": [
    "# Lists"
   ]
  },
  {
   "cell_type": "code",
   "execution_count": null,
   "id": "9b4ea440",
   "metadata": {},
   "outputs": [],
   "source": [
    "if __name__ == '__main__':\n",
    "    N = int(input())\n",
    "    lista=[]\n",
    "    for i in range(N):\n",
    "        command = input().split()\n",
    "        if command[0] == \"insert\":\n",
    "            lista.insert(int(command[1]), int(command[2]))\n",
    "        if command[0] == \"print\":\n",
    "            print(lista) \n",
    "        if command[0] == \"remove\":\n",
    "            lista.remove(int(command[1]))\n",
    "        if command[0] == \"append\":\n",
    "            lista.append(int(command[1]))\n",
    "        if command[0] == \"sort\":\n",
    "            lista.sort()\n",
    "        if command[0] == \"pop\":\n",
    "            lista.pop()\n",
    "        if command[0] == \"reverse\":\n",
    "            lista.reverse()"
   ]
  },
  {
   "cell_type": "markdown",
   "id": "9c35ea69",
   "metadata": {},
   "source": [
    "# Nested Lists"
   ]
  },
  {
   "cell_type": "code",
   "execution_count": null,
   "id": "79e1d884",
   "metadata": {},
   "outputs": [],
   "source": [
    "if __name__ == '__main__':\n",
    "    n=int(input())\n",
    "    if n not in range(2,6):\n",
    "        raise ValueError\n",
    "    records =[]\n",
    "    scores =[]\n",
    "    for _ in range(n):\n",
    "        name = input()\n",
    "        score = float(input())\n",
    "        records.append([name, score])\n",
    "        scores.append(score)\n",
    "    records.sort()\n",
    "    scores.sort()\n",
    "    unique_scores=list(set(scores))\n",
    "    second_lowest = unique_scores[1]\n",
    "    result=[]\n",
    "    for i in range(n):\n",
    "        for j in range(2):\n",
    "            if (records[i][j]) == second_lowest:\n",
    "                result.append(records[i][0])\n",
    "    for i in result:\n",
    "        print(i)"
   ]
  },
  {
   "cell_type": "markdown",
   "id": "79d09864",
   "metadata": {},
   "source": [
    "# sWAP cASE"
   ]
  },
  {
   "cell_type": "code",
   "execution_count": null,
   "id": "f4f88297",
   "metadata": {},
   "outputs": [],
   "source": [
    "def swap_case(s):\n",
    "    ss= \"\"\n",
    "    if len(s) in range(1001):\n",
    "        for i in s:\n",
    "            if i.islower():\n",
    "                ss += i.upper()\n",
    "            elif i.isupper():\n",
    "                ss += i.lower()\n",
    "            else:\n",
    "                ss += i\n",
    "    return ss"
   ]
  },
  {
   "cell_type": "markdown",
   "id": "dc3c921f",
   "metadata": {},
   "source": [
    "# String Split and Join"
   ]
  },
  {
   "cell_type": "code",
   "execution_count": null,
   "id": "00547537",
   "metadata": {},
   "outputs": [],
   "source": [
    "def split_and_join(line):\n",
    "    line1 = line.split(\" \")\n",
    "    line2 = \"-\".join(line1)\n",
    "    return line2\n",
    "\n",
    "if __name__ == '__main__':\n",
    "    line = input()\n",
    "    result = split_and_join(line)\n",
    "    print(result)"
   ]
  },
  {
   "cell_type": "markdown",
   "id": "3879c118",
   "metadata": {},
   "source": [
    "# What's Your Name?"
   ]
  },
  {
   "cell_type": "code",
   "execution_count": null,
   "id": "0ae663bc",
   "metadata": {},
   "outputs": [],
   "source": [
    "#\n",
    "# Complete the 'print_full_name' function below.\n",
    "#\n",
    "# The function is expected to return a STRING.\n",
    "# The function accepts following parameters:\n",
    "#  1. STRING first\n",
    "#  2. STRING last\n",
    "#\n",
    "\n",
    "def print_full_name(first, last):\n",
    "    print(\"Hello\", str(first), str(last)+\"!\", \"You just delved into python.\")"
   ]
  },
  {
   "cell_type": "markdown",
   "id": "43391757",
   "metadata": {},
   "source": [
    "# Mutations"
   ]
  },
  {
   "cell_type": "code",
   "execution_count": null,
   "id": "ceb0c944",
   "metadata": {},
   "outputs": [],
   "source": [
    "def mutate_string(string, position, character):\n",
    "    c = str(character)\n",
    "    new_stringa = string[:position] + c + string[position+1:] \n",
    "    return new_stringa"
   ]
  },
  {
   "cell_type": "markdown",
   "id": "2b765fcf",
   "metadata": {},
   "source": [
    "# Find a string"
   ]
  },
  {
   "cell_type": "code",
   "execution_count": null,
   "id": "f514808c",
   "metadata": {},
   "outputs": [],
   "source": [
    "def count_substring(string, sub_string):\n",
    "    if len(string) not in range(1, 201):\n",
    "        raise ValueError\n",
    "    else:\n",
    "        contatore = 0\n",
    "        index = string.find(sub_string)\n",
    "        while index != -1:\n",
    "            contatore += 1\n",
    "            index = string.find(sub_string, index+1)\n",
    "    return contatore"
   ]
  },
  {
   "cell_type": "markdown",
   "id": "a617ea9c",
   "metadata": {},
   "source": [
    "# String Validators"
   ]
  },
  {
   "cell_type": "code",
   "execution_count": null,
   "id": "a55502e4",
   "metadata": {},
   "outputs": [],
   "source": [
    "if __name__ == '__main__':\n",
    "    s = input()\n",
    "    if len(s)>1000:\n",
    "        raise ValueError\n",
    "    else:\n",
    "        ll= list(s)\n",
    "        alnum = False\n",
    "        alpha = False\n",
    "        isdigit = False\n",
    "        islower = False\n",
    "        isupper = False\n",
    "        for i in ll:\n",
    "            if i.isalnum():\n",
    "                alnum = True\n",
    "            if i.isalpha():\n",
    "                alpha = True\n",
    "            if i.isdigit():\n",
    "                isdigit = True\n",
    "            if i.islower():\n",
    "                islower = True\n",
    "            if i.isupper():\n",
    "                isupper = True\n",
    "        print(alnum)\n",
    "        print(alpha)\n",
    "        print(isdigit)\n",
    "        print(islower)\n",
    "        print(isupper)"
   ]
  },
  {
   "cell_type": "markdown",
   "id": "0d482ced",
   "metadata": {},
   "source": [
    "# Text Wrap"
   ]
  },
  {
   "cell_type": "code",
   "execution_count": null,
   "id": "79ef574c",
   "metadata": {},
   "outputs": [],
   "source": [
    "def wrap(string, max_width):\n",
    "    if len(string) not in range(1000):\n",
    "        raise ValueError\n",
    "    if max_width not in range(len(string)):\n",
    "        raise ValueError\n",
    "    new_string = textwrap.fill(string, max_width)\n",
    "    return new_string"
   ]
  },
  {
   "cell_type": "markdown",
   "id": "8dc427ae",
   "metadata": {},
   "source": [
    "# String Formatting"
   ]
  },
  {
   "cell_type": "code",
   "execution_count": null,
   "id": "670e6a62",
   "metadata": {},
   "outputs": [],
   "source": [
    "def print_formatted(number):\n",
    "    if number not in range(1,100):\n",
    "        raise ValueError\n",
    "    length = len(bin(number)[2:])\n",
    "    for i in range(1, number+1):\n",
    "        print(str(i).rjust(length), oct(i)[2:].rjust(length), hex(i)[2:].upper().rjust(length), bin(i)[2:].rjust(length))"
   ]
  },
  {
   "cell_type": "markdown",
   "id": "bf63f2cd",
   "metadata": {},
   "source": [
    "# Designer Door Mat"
   ]
  },
  {
   "cell_type": "code",
   "execution_count": null,
   "id": "663fe72e",
   "metadata": {},
   "outputs": [],
   "source": [
    "# Enter your code here. Read input from STDIN. Print output to STDOUT\n",
    "N, M = map(int, input().split())\n",
    "if M != 3*N or N not in range(6,101) or M not in range(16, 303):\n",
    "    raise ValueError\n",
    "middle= \".|.\"\n",
    "for i in range(1, N, 2):\n",
    "             print((i*middle).center(M, \"-\"))\n",
    "print(\"WELCOME\".center(M,\"-\"))\n",
    "for i in range(N-2, -1, -2):\n",
    "    print((i*middle).center(M, \"-\"))"
   ]
  },
  {
   "cell_type": "markdown",
   "id": "6237f9ac",
   "metadata": {},
   "source": [
    "# Text Alignment"
   ]
  },
  {
   "cell_type": "code",
   "execution_count": null,
   "id": "83c512fe",
   "metadata": {},
   "outputs": [],
   "source": [
    "# Enter your code here. Read input from STDIN. Print output to STDOUT\n",
    "thickness =int(input())\n",
    "h =  \"H\"\n",
    "if (thickness%2)!=0 and thickness in range(50): \n",
    "        \n",
    "    for i in range(thickness):\n",
    "        print((h*i).rjust(thickness-1)+h+(h*i).ljust(thickness-1))\n",
    "\n",
    "\n",
    "    for i in range(thickness+1):\n",
    "        print((h*thickness).center(thickness*2)+(h*thickness).center(thickness*6))\n",
    "\n",
    "    for i in range(int((thickness+1)/2)):\n",
    "        print((h*(thickness*5)).center(thickness*6))\n",
    "\n",
    "    for i in range(thickness+1):\n",
    "        print((h*thickness).center(thickness*2)+(h*thickness).center(thickness*6))\n",
    "\n",
    "    for i in range(thickness):\n",
    "        print(((h*(thickness-i-1)).rjust(thickness)+h+(h*(thickness-i-1)).ljust(thickness)).rjust(thickness*6))"
   ]
  },
  {
   "cell_type": "markdown",
   "id": "a3f90038",
   "metadata": {},
   "source": [
    "# Capitalize!"
   ]
  },
  {
   "cell_type": "code",
   "execution_count": null,
   "id": "ce263ee6",
   "metadata": {},
   "outputs": [],
   "source": [
    "# Complete the solve function below.\n",
    "def solve(s):\n",
    "    ss= s.split(\" \")\n",
    "    name = \"\"\n",
    "    if len(ss) < 1000:\n",
    "        for i in ss:\n",
    "            name+=i.capitalize()\n",
    "            name+=\" \"\n",
    "        return(name)"
   ]
  },
  {
   "cell_type": "markdown",
   "id": "de2340b6",
   "metadata": {},
   "source": [
    "# Alphabet Rangoli"
   ]
  },
  {
   "cell_type": "code",
   "execution_count": null,
   "id": "d3b5d5d2",
   "metadata": {},
   "outputs": [],
   "source": [
    "def print_rangoli(size):\n",
    "    from string import ascii_lowercase as alphabet\n",
    "    alph=alphabet[:size]\n",
    "    if size in range(27):\n",
    "        for i in range(size-1, -size, -1):\n",
    "            print (\"--\"*abs(i)+ '-'.join(alph[size:abs(i):-1] + alph[abs(i):size])+\"--\"*abs(i))"
   ]
  },
  {
   "cell_type": "markdown",
   "id": "a3a1f905",
   "metadata": {},
   "source": [
    "# Merge the Tools!"
   ]
  },
  {
   "cell_type": "code",
   "execution_count": null,
   "id": "67616a22",
   "metadata": {},
   "outputs": [],
   "source": [
    "def merge_the_tools(string, k):\n",
    "    # your code goes here\n",
    "    if len(string) in range(1, (10**4)+1) and (len(string)%k)==0 and k in range (1, len(string)+1):\n",
    "        for i in range(0, len(string), k):\n",
    "            sub_string = \"\"\n",
    "            for x in string[i:i+k]:\n",
    "                if x not in sub_string:\n",
    "                    sub_string+=x\n",
    "            print(sub_string)"
   ]
  },
  {
   "cell_type": "markdown",
   "id": "0772fe5a",
   "metadata": {},
   "source": [
    "# The Minion Game"
   ]
  },
  {
   "cell_type": "code",
   "execution_count": null,
   "id": "093c31c1",
   "metadata": {},
   "outputs": [],
   "source": [
    "def minion_game(string):\n",
    "    # your code goes here\n",
    "    if len(string) in range((10**6)+1):\n",
    "        vowels = \"AEIOU\"\n",
    "        kevin_score = 0\n",
    "        stuart_score = 0\n",
    "        for i in range(len(string)):\n",
    "            if string[i] in vowels:\n",
    "                kevin_score += (len(string)-i)\n",
    "            else:\n",
    "                stuart_score += (len(string)-i)\n",
    "        if kevin_score > stuart_score:\n",
    "            print(\"Kevin\", kevin_score)\n",
    "        elif stuart_score > kevin_score:\n",
    "            print(\"Stuart\", stuart_score)\n",
    "        else:\n",
    "            print(\"Draw\")"
   ]
  },
  {
   "cell_type": "markdown",
   "id": "a0df7f3f",
   "metadata": {},
   "source": [
    "# Introduction to Sets"
   ]
  },
  {
   "cell_type": "code",
   "execution_count": null,
   "id": "5b91af43",
   "metadata": {},
   "outputs": [],
   "source": [
    "def average(array):\n",
    "    # your code goes here\n",
    "    if n in range(101):\n",
    "        distinct_heights = set(arr)\n",
    "        average = round(sum(distinct_heights)/len(distinct_heights), 3)\n",
    "        return(average)"
   ]
  },
  {
   "cell_type": "markdown",
   "id": "2f4a252b",
   "metadata": {},
   "source": [
    "# Set .add()"
   ]
  },
  {
   "cell_type": "code",
   "execution_count": null,
   "id": "f93dfb4d",
   "metadata": {},
   "outputs": [],
   "source": [
    "# Enter your code here. Read input from STDIN. Print output to STDOUT\n",
    "n = int(input())\n",
    "if n in range(1000):\n",
    "    countries=[]\n",
    "    for i in range(n):\n",
    "        countries.append(input())\n",
    "    s=set(countries)\n",
    "    print(len(s))"
   ]
  },
  {
   "cell_type": "markdown",
   "id": "754de012",
   "metadata": {},
   "source": [
    "# Set .discard(), .remove() & .pop()"
   ]
  },
  {
   "cell_type": "code",
   "execution_count": null,
   "id": "f27a4c73",
   "metadata": {},
   "outputs": [],
   "source": [
    "n = int(input())\n",
    "s = set(map(int, input().split()))\n",
    "N = int(input())\n",
    "if n in range(20) and N in range(20):\n",
    "    for _ in range(N):\n",
    "        command = input().strip().split()\n",
    "        if command[0] == \"pop\":\n",
    "            s.pop()\n",
    "\n",
    "        if command[0] == \"remove\":\n",
    "            s.remove(int(command[1]))\n",
    "\n",
    "        if command[0] == \"discard\":\n",
    "            s.discard(int(command[1]))\n",
    "    print(sum(s))"
   ]
  },
  {
   "cell_type": "markdown",
   "id": "06028ce5",
   "metadata": {},
   "source": [
    "# Set .union() Operation"
   ]
  },
  {
   "cell_type": "code",
   "execution_count": null,
   "id": "c8a30ec1",
   "metadata": {},
   "outputs": [],
   "source": [
    "# Enter your code here. Read input from STDIN. Print output to STDOUT\n",
    "n = int(input())\n",
    "en =  set(map(int, input().split()))\n",
    "b = int(input())\n",
    "fr =  set(map(int, input().split()))\n",
    "print(len(en.union(fr)))"
   ]
  },
  {
   "cell_type": "markdown",
   "id": "d6642415",
   "metadata": {},
   "source": [
    "# Set .intersection() Operation"
   ]
  },
  {
   "cell_type": "code",
   "execution_count": null,
   "id": "61a90031",
   "metadata": {},
   "outputs": [],
   "source": [
    "# Enter your code here. Read input from STDIN. Print output to STDOUT\n",
    "n = int(input())\n",
    "en =  set(map(int, input().split()))\n",
    "b = int(input())\n",
    "fr =  set(map(int, input().split()))\n",
    "print(len(en.intersection(fr)))"
   ]
  },
  {
   "cell_type": "markdown",
   "id": "5cb5a6b0",
   "metadata": {},
   "source": [
    "# Set .difference() Operation"
   ]
  },
  {
   "cell_type": "code",
   "execution_count": null,
   "id": "5ee58c39",
   "metadata": {},
   "outputs": [],
   "source": [
    "# Enter your code here. Read input from STDIN. Print output to STDOUT\n",
    "n = int(input())\n",
    "en =  set(map(int, input().split()))\n",
    "b = int(input())\n",
    "fr =  set(map(int, input().split()))\n",
    "print(len(en.difference(fr)))"
   ]
  },
  {
   "cell_type": "markdown",
   "id": "ed692722",
   "metadata": {},
   "source": [
    "# Set .symmetric_difference() Operation"
   ]
  },
  {
   "cell_type": "code",
   "execution_count": null,
   "id": "418eaddf",
   "metadata": {},
   "outputs": [],
   "source": [
    "# Enter your code here. Read input from STDIN. Print output to STDOUT\n",
    "n = int(input())\n",
    "en =  set(map(int, input().split()))\n",
    "b = int(input())\n",
    "fr =  set(map(int, input().split()))\n",
    "print(len(en.symmetric_difference(fr)))"
   ]
  },
  {
   "cell_type": "markdown",
   "id": "60ac6d92",
   "metadata": {},
   "source": [
    "# Symmetric Difference"
   ]
  },
  {
   "cell_type": "code",
   "execution_count": null,
   "id": "69d9cadb",
   "metadata": {},
   "outputs": [],
   "source": [
    "# Enter your code here. Read input from STDIN. Print output to STDOUT\n",
    "n = int(input())\n",
    "a =  set(map(int, input().split()))\n",
    "m = int(input())\n",
    "b =  set(map(int, input().split()))\n",
    "symmetric = sorted(set(a.union(b) - a.intersection(b)))\n",
    "for x in symmetric:\n",
    "    print(x)"
   ]
  },
  {
   "cell_type": "markdown",
   "id": "e9972c58",
   "metadata": {},
   "source": [
    "# Set Mutations"
   ]
  },
  {
   "cell_type": "code",
   "execution_count": null,
   "id": "c3ab534b",
   "metadata": {},
   "outputs": [],
   "source": [
    "# Enter your code here. Read input from STDIN. Print output to STDOUT\n",
    "n = int(input()) #number of elements in the set\n",
    "s =  set(map(int, input().split()))#elements in the set\n",
    "N = int(input()) #number of other sets\n",
    "if N in range(100):\n",
    "    for _ in range(N):\n",
    "        command = input().strip().split()\n",
    "        set_i = set(map(int, input().split()))\n",
    "        if command[0] == \"intersection_update\":\n",
    "            s.intersection_update(set_i)\n",
    "\n",
    "        if command[0] == \"update\":\n",
    "            s.update(set_i)\n",
    "\n",
    "        if command[0] == \"symmetric_difference_update\":\n",
    "            s.symmetric_difference_update(set_i)\n",
    "            \n",
    "        if command[0] == \"difference_update\":\n",
    "            s.difference_update(set_i)     \n",
    "    print(sum(s))"
   ]
  },
  {
   "cell_type": "markdown",
   "id": "ff1c6b2b",
   "metadata": {},
   "source": [
    "# Check Subset"
   ]
  },
  {
   "cell_type": "code",
   "execution_count": null,
   "id": "2d86a412",
   "metadata": {},
   "outputs": [],
   "source": [
    "# Enter your code here. Read input from STDIN. Print output to STDOUT\n",
    "T = int(input())\n",
    "if T in range(21):\n",
    "    for _ in range(T):\n",
    "        n_A = int(input())\n",
    "        set_A = set(map(int, input().split()))\n",
    "        n_B = int(input())\n",
    "        set_B = set(map(int, input().split()))\n",
    "        if n_A in range(1001) and n_B in range(1001):\n",
    "            print(set_A.intersection(set_B) == set_A) "
   ]
  },
  {
   "cell_type": "markdown",
   "id": "9a88bbdf",
   "metadata": {},
   "source": [
    "# Check Strict Superset"
   ]
  },
  {
   "cell_type": "code",
   "execution_count": null,
   "id": "5bf16e48",
   "metadata": {},
   "outputs": [],
   "source": [
    "# Enter your code here. Read input from STDIN. Print output to STDOUT\n",
    "set_A = set(map(int, input().split()))\n",
    "is_strict = 0\n",
    "n = int(input())\n",
    "for _ in range(n):\n",
    "    set_n = set(map(int, input().split()))\n",
    "    if set_A.issuperset(set_n):\n",
    "        is_strict+=1\n",
    "if is_strict == n:\n",
    "    print(\"True\")\n",
    "else:\n",
    "    print(\"False\")"
   ]
  },
  {
   "cell_type": "markdown",
   "id": "30af20e9",
   "metadata": {},
   "source": [
    "# The Captain's Room"
   ]
  },
  {
   "cell_type": "code",
   "execution_count": null,
   "id": "2481937e",
   "metadata": {},
   "outputs": [],
   "source": [
    "# Enter your code here. Read input from STDIN. Print output to STDOUT\n",
    "from collections import Counter\n",
    "k = int(input())\n",
    "if k in range(1, 1000):\n",
    "    list_i = list(map(int, input().split()))\n",
    "    count = Counter(list_i) \n",
    "    for i in list_i:\n",
    "        if count[i] == 1:\n",
    "            print(i)"
   ]
  },
  {
   "cell_type": "markdown",
   "id": "87d90be7",
   "metadata": {},
   "source": [
    "# No Idea!"
   ]
  },
  {
   "cell_type": "code",
   "execution_count": null,
   "id": "8a6b8493",
   "metadata": {},
   "outputs": [],
   "source": [
    "# Enter your code here. Read input from STDIN. Print output to STDOUT\n",
    "n, m = list(map(int, input().split()))\n",
    "elements = list(map(int, input().split()))\n",
    "set_A = set(map(int, input().split()))\n",
    "set_B = set(map(int, input().split()))\n",
    "happiness = 0\n",
    "for i in elements:\n",
    "    if i in set_A:\n",
    "        happiness+=1\n",
    "    elif i in set_B:\n",
    "        happiness-=1\n",
    "    else:\n",
    "        happiness+=0\n",
    "print(happiness)"
   ]
  },
  {
   "cell_type": "markdown",
   "id": "65f213e9",
   "metadata": {},
   "source": [
    "# collections.Counter()"
   ]
  },
  {
   "cell_type": "code",
   "execution_count": null,
   "id": "7db07aef",
   "metadata": {},
   "outputs": [],
   "source": [
    "# Enter your code here. Read input from STDIN. Print output to STDOUT\n",
    "from collections import Counter\n",
    "n_shoes = int(input())\n",
    "shoe_sizes = list(map(int, input().split()))\n",
    "n_cust = int(input())\n",
    "money = 0\n",
    "for i in range(n_cust):\n",
    "    size, price = list(map(int, input().split()))\n",
    "    if size in shoe_sizes:\n",
    "        shoe_sizes.remove(size)\n",
    "        money+= price\n",
    "print(money)"
   ]
  },
  {
   "cell_type": "markdown",
   "id": "29688344",
   "metadata": {},
   "source": [
    "# Collections.deque()"
   ]
  },
  {
   "cell_type": "code",
   "execution_count": null,
   "id": "2f1c724c",
   "metadata": {},
   "outputs": [],
   "source": [
    "# Enter your code here. Read input from STDIN. Print output to STDOUT\n",
    "from collections import deque\n",
    "n = int(input())\n",
    "d = deque()\n",
    "for _ in range(n):\n",
    "    command = input().strip().split()\n",
    "    if command[0] == \"append\":\n",
    "        d.append(int(command[1]))\n",
    "    if command[0] == \"pop\":\n",
    "        d.pop()\n",
    "    if command[0] == \"popleft\":\n",
    "        d.popleft()\n",
    "    if command[0] == \"appendleft\":\n",
    "        d.appendleft(int(command[1]))\n",
    "for x in d:\n",
    "    print(x, end =\" \")"
   ]
  },
  {
   "cell_type": "markdown",
   "id": "4cbcffcd",
   "metadata": {},
   "source": [
    "# Collections.namedtuple()"
   ]
  },
  {
   "cell_type": "code",
   "execution_count": null,
   "id": "39fe0b4c",
   "metadata": {},
   "outputs": [],
   "source": [
    "# Enter your code here. Read input from STDIN. Print output to STDOUT\n",
    "from collections import namedtuple\n",
    "n = int(input())\n",
    "columns = namedtuple(\"Student\", input().split())\n",
    "tot_marks = 0  \n",
    "for _ in range(n):\n",
    "    attr1, attr2, attr3, attr4 = input().split()\n",
    "    student = columns(attr1, attr2, attr3, attr4)\n",
    "    tot_marks += int(student.MARKS)\n",
    "print(round(tot_marks/n, 2))"
   ]
  },
  {
   "cell_type": "markdown",
   "id": "4d0fac16",
   "metadata": {},
   "source": [
    "# DefaultDict Tutorial"
   ]
  },
  {
   "cell_type": "code",
   "execution_count": null,
   "id": "56042785",
   "metadata": {},
   "outputs": [],
   "source": [
    "# Enter your code here. Read input from STDIN. Print output to STDOUT\n",
    "from collections import defaultdict\n",
    "d = defaultdict(list)\n",
    "n, m = map(int, input().split())\n",
    "for i in range(1, n+1):\n",
    "    d[input()].append(str(i)) \n",
    "for _ in range(m):\n",
    "    print(\" \".join(d[input()]) or -1)"
   ]
  },
  {
   "cell_type": "markdown",
   "id": "be87a776",
   "metadata": {},
   "source": [
    "# Collections.OrderedDict()"
   ]
  },
  {
   "cell_type": "code",
   "execution_count": null,
   "id": "e7819410",
   "metadata": {},
   "outputs": [],
   "source": [
    "# Enter your code here. Read input from STDIN. Print output to STDOUT\n",
    "from collections import OrderedDict\n",
    "ord_dict = OrderedDict()\n",
    "n = int(input())\n",
    "for i in range(n):\n",
    "    item = input().split()\n",
    "    net_price = int(item[-1])\n",
    "    item_name = \" \".join(item[:-1])\n",
    "    if ord_dict.get(item_name):\n",
    "        ord_dict[item_name]+= int(net_price)\n",
    "    else:\n",
    "        ord_dict[item_name]= int(net_price)\n",
    "for i in ord_dict.keys():\n",
    "    print(i, ord_dict[i])"
   ]
  },
  {
   "cell_type": "markdown",
   "id": "f57048f5",
   "metadata": {},
   "source": [
    "# Exceptions"
   ]
  },
  {
   "cell_type": "code",
   "execution_count": null,
   "id": "7556988f",
   "metadata": {},
   "outputs": [],
   "source": [
    "# Enter your code here. Read input from STDIN. Print output to STDOUT\n",
    "for _ in range(int(input())):\n",
    "    try:\n",
    "        a,b = map(int, input().split()) \n",
    "        print(a//b)\n",
    "    except ZeroDivisionError as e:\n",
    "        print(\"Error Code:\", e)\n",
    "    except ValueError as e:\n",
    "        print(\"Error Code:\", e)"
   ]
  },
  {
   "cell_type": "markdown",
   "id": "1fd60d04",
   "metadata": {},
   "source": [
    "# Map and Lambda Function"
   ]
  },
  {
   "cell_type": "code",
   "execution_count": null,
   "id": "bd5727ef",
   "metadata": {},
   "outputs": [],
   "source": [
    "cube = lambda x: x**3# complete the lambda function \n",
    "\n",
    "def fibonacci(n):\n",
    "    # return a list of fibonacci numbers\n",
    "    list_fib = []\n",
    "    for i in range(n):\n",
    "        if len(list_fib) == 0:\n",
    "            list_fib.append(0)\n",
    "        elif len(list_fib) == 1:\n",
    "            list_fib.append(1)\n",
    "        else:\n",
    "            list_fib.append(list_fib[i-1] + list_fib[i-2])\n",
    "    return list_fib"
   ]
  },
  {
   "cell_type": "markdown",
   "id": "d089ac70",
   "metadata": {},
   "source": [
    "# Zipped!"
   ]
  },
  {
   "cell_type": "code",
   "execution_count": null,
   "id": "3cd7703c",
   "metadata": {},
   "outputs": [],
   "source": [
    "# Enter your code here. Read input from STDIN. Print output to STDOUT\n",
    "num_stud, subj = map(int, input().split())\n",
    "subj_i = []\n",
    "for _ in range(subj):\n",
    "    subj_i.append(map(float, input().split()))\n",
    "for i in zip(*subj_i):\n",
    "    print(sum(i)/len(i))"
   ]
  },
  {
   "cell_type": "markdown",
   "id": "9304382a",
   "metadata": {},
   "source": [
    "# Athlete Sort"
   ]
  },
  {
   "cell_type": "code",
   "execution_count": null,
   "id": "b91aea42",
   "metadata": {},
   "outputs": [],
   "source": [
    "#!/bin/python3\n",
    "\n",
    "import math\n",
    "import os\n",
    "import random\n",
    "import re\n",
    "import sys\n",
    "\n",
    "\n",
    "\n",
    "if __name__ == '__main__':\n",
    "    nm = input().split()\n",
    "\n",
    "    n = int(nm[0])\n",
    "\n",
    "    m = int(nm[1])\n",
    "\n",
    "    arr = []\n",
    "\n",
    "    for _ in range(n):\n",
    "        arr.append(list(map(int, input().rstrip().split())))\n",
    "\n",
    "    k = int(input())\n",
    "    sorted_table=sorted(arr, key=lambda x: x[k])\n",
    "    for x in sorted_table:\n",
    "        print(*x)"
   ]
  },
  {
   "cell_type": "markdown",
   "id": "af996b5f",
   "metadata": {},
   "source": [
    "# ginortS"
   ]
  },
  {
   "cell_type": "code",
   "execution_count": null,
   "id": "e9c8d141",
   "metadata": {},
   "outputs": [],
   "source": [
    "# Enter your code here. Read input from STDIN. Print output to STDOUT\n",
    "s = input()\n",
    "lower = []\n",
    "upper = []\n",
    "odds = []\n",
    "even = []\n",
    "for i in s:\n",
    "    if i.islower():\n",
    "        lower.append(i)\n",
    "    elif i.isupper():\n",
    "        upper.append(i)\n",
    "    elif i.isdigit():\n",
    "        if int(i) % 2 == 0:\n",
    "            odds.append(i)\n",
    "        else:\n",
    "            even.append(i)\n",
    "print(''.join((sorted(lower) + sorted(upper) + sorted(even) + sorted(odds))))"
   ]
  },
  {
   "cell_type": "markdown",
   "id": "06e464f4",
   "metadata": {},
   "source": [
    "# Standardize Mobile Number Using Decorators"
   ]
  },
  {
   "cell_type": "code",
   "execution_count": null,
   "id": "0a8945a0",
   "metadata": {},
   "outputs": [],
   "source": [
    "def wrapper(f):\n",
    "    def fun(l):\n",
    "        # complete the function\n",
    "        f([\"+91 \" + x[-10:-5] + \" \" + x[-5:] for x in l])\n",
    "    return fun"
   ]
  },
  {
   "cell_type": "markdown",
   "id": "90335721",
   "metadata": {},
   "source": [
    "# Decorators 2 - Name Directory"
   ]
  },
  {
   "cell_type": "code",
   "execution_count": null,
   "id": "00c9d7f3",
   "metadata": {},
   "outputs": [],
   "source": [
    "def person_lister(f):\n",
    "    def inner(people):\n",
    "        # complete the function\n",
    "        return map(f, sorted(people, key=lambda person: int(person[2])))\n",
    "    return inner"
   ]
  },
  {
   "cell_type": "markdown",
   "id": "116304fe",
   "metadata": {},
   "source": [
    "# XML 1 - Find the Score"
   ]
  },
  {
   "cell_type": "code",
   "execution_count": null,
   "id": "31a49d73",
   "metadata": {},
   "outputs": [],
   "source": [
    "def get_attr_number(node):\n",
    "    # your code goes here\n",
    "    score = 0\n",
    "    for child in node.iter():\n",
    "        score+=len(child.attrib)\n",
    "    return score"
   ]
  },
  {
   "cell_type": "markdown",
   "id": "3267c1fe",
   "metadata": {},
   "source": [
    "# XML2 - Find the Maximum Depth"
   ]
  },
  {
   "cell_type": "code",
   "execution_count": null,
   "id": "3d955a33",
   "metadata": {},
   "outputs": [],
   "source": [
    "maxdepth = 0\n",
    "def depth(elem, level):\n",
    "    global maxdepth\n",
    "    # your code goes here\n",
    "    if level ==maxdepth:\n",
    "        maxdepth+=1\n",
    "    for child in elem:\n",
    "        depth(child, level+1)"
   ]
  },
  {
   "cell_type": "markdown",
   "id": "defcab81",
   "metadata": {},
   "source": [
    "# Calendar Module"
   ]
  },
  {
   "cell_type": "code",
   "execution_count": null,
   "id": "bd8e9f5d",
   "metadata": {},
   "outputs": [],
   "source": [
    "# Enter your code here. Read input from STDIN. Print output to STDOUT\n",
    "import calendar\n",
    "month, day, year = map(int, input().split())\n",
    "print(calendar.day_name[calendar.weekday(year, month, day)].upper())"
   ]
  },
  {
   "cell_type": "markdown",
   "id": "75809d34",
   "metadata": {},
   "source": [
    "# Time Delta"
   ]
  },
  {
   "cell_type": "code",
   "execution_count": null,
   "id": "34db0349",
   "metadata": {},
   "outputs": [],
   "source": [
    "#!/bin/python3\n",
    "\n",
    "import math\n",
    "import os\n",
    "import random\n",
    "import re\n",
    "import sys\n",
    "from datetime import datetime\n",
    "# Complete the time_delta function below.\n",
    "def time_delta(t1, t2):\n",
    "    format_code= \"%a %d %b %Y %H:%M:%S %z\"\n",
    "    t1=datetime.strptime(t1, format_code)\n",
    "    t2=datetime.strptime(t2, format_code)\n",
    "    return(str(abs(int((t1-t2).total_seconds()))))\n",
    "if __name__ == '__main__':\n",
    "    fptr = open(os.environ['OUTPUT_PATH'], 'w')\n",
    "\n",
    "    t = int(input())\n",
    "\n",
    "    for t_itr in range(t):\n",
    "        t1 = input()\n",
    "\n",
    "        t2 = input()\n",
    "\n",
    "        delta = time_delta(t1, t2)\n",
    "\n",
    "        fptr.write(delta + '\\n')\n",
    "\n",
    "    fptr.close()"
   ]
  },
  {
   "cell_type": "markdown",
   "id": "9e72f6e8",
   "metadata": {},
   "source": [
    "# Arrays"
   ]
  },
  {
   "cell_type": "code",
   "execution_count": null,
   "id": "939f4af0",
   "metadata": {},
   "outputs": [],
   "source": [
    "import numpy as np\n",
    "\n",
    "def arrays(arr):\n",
    "    # complete this function\n",
    "    # use numpy.array\n",
    "    a =[]\n",
    "    for i in range(1,len(arr)+1):\n",
    "        a.append(arr[-i])\n",
    "    return(numpy.array(a, float))"
   ]
  },
  {
   "cell_type": "markdown",
   "id": "5de706d0",
   "metadata": {},
   "source": [
    "# Shape and Reshape"
   ]
  },
  {
   "cell_type": "code",
   "execution_count": null,
   "id": "284c4871",
   "metadata": {},
   "outputs": [],
   "source": [
    "import numpy as np\n",
    "n = np.array(input().split(), int)\n",
    "print(np.reshape(n, (3,3)))"
   ]
  },
  {
   "cell_type": "markdown",
   "id": "ffc1f0c7",
   "metadata": {},
   "source": [
    "# Transpose and Flatten"
   ]
  },
  {
   "cell_type": "code",
   "execution_count": null,
   "id": "b4358759",
   "metadata": {},
   "outputs": [],
   "source": [
    "import numpy as np\n",
    "n, m = map(int, input().split())\n",
    "matrix = []\n",
    "for _ in range(n):\n",
    "    matrix.append(input().split())\n",
    "arr = np.array(matrix, int)\n",
    "print(np.transpose(arr))\n",
    "print(arr.flatten())"
   ]
  },
  {
   "cell_type": "markdown",
   "id": "de127015",
   "metadata": {},
   "source": [
    "# Concatenate"
   ]
  },
  {
   "cell_type": "code",
   "execution_count": null,
   "id": "8da5cae5",
   "metadata": {},
   "outputs": [],
   "source": [
    "import numpy as np\n",
    "n, m, p = map(int, input().split())\n",
    "matr1 = []\n",
    "matr2=[]\n",
    "for _ in range(n):\n",
    "    matr1.append(input().split())\n",
    "arr1=np.array(matr1, int)\n",
    "for _ in range(m):\n",
    "    matr2.append(input().split())\n",
    "arr2=np.array(matr2, int)\n",
    "print(np.concatenate((arr1,arr2)))"
   ]
  },
  {
   "cell_type": "markdown",
   "id": "e07b6c71",
   "metadata": {},
   "source": [
    "# Zeros and Ones"
   ]
  },
  {
   "cell_type": "code",
   "execution_count": null,
   "id": "ae8deae1",
   "metadata": {},
   "outputs": [],
   "source": [
    "import numpy as np\n",
    "n = tuple(map(int, input().split()))\n",
    "print(np.array(np.zeros(n), dtype = np.int))\n",
    "print(np.array(np.ones(n), dtype = np.int))"
   ]
  },
  {
   "cell_type": "markdown",
   "id": "9a3305e3",
   "metadata": {},
   "source": [
    "# Eye and Identity"
   ]
  },
  {
   "cell_type": "code",
   "execution_count": null,
   "id": "07eb13d8",
   "metadata": {},
   "outputs": [],
   "source": [
    "import numpy as np\n",
    "np.set_printoptions(legacy=\"1.13\")\n",
    "n, m = map(int, input().split())\n",
    "print(np.eye(n,m))"
   ]
  },
  {
   "cell_type": "markdown",
   "id": "74a1b404",
   "metadata": {},
   "source": [
    "# Floor, Ceil and Rint"
   ]
  },
  {
   "cell_type": "code",
   "execution_count": null,
   "id": "7a8e1b93",
   "metadata": {},
   "outputs": [],
   "source": [
    "import numpy as np\n",
    "np.set_printoptions(legacy=\"1.13\")\n",
    "arr = np.array(input().split(\" \"), dtype=float)\n",
    "print(np.floor(arr))\n",
    "print(np.ceil(arr))\n",
    "print(np.rint(arr))"
   ]
  },
  {
   "cell_type": "markdown",
   "id": "909d2621",
   "metadata": {},
   "source": [
    "# Sum and Prod"
   ]
  },
  {
   "cell_type": "code",
   "execution_count": null,
   "id": "6fb43ede",
   "metadata": {},
   "outputs": [],
   "source": [
    "import numpy as np\n",
    "n, m = map(int, input().split())\n",
    "arr = np.zeros((n, m), int)\n",
    "for i in range(n):\n",
    "    arr[i] = input().split()\n",
    "print(np.prod(np.sum(arr, axis = 0), axis = None))"
   ]
  },
  {
   "cell_type": "markdown",
   "id": "4905fefd",
   "metadata": {},
   "source": [
    "# Min and Max"
   ]
  },
  {
   "cell_type": "code",
   "execution_count": null,
   "id": "74d5970f",
   "metadata": {},
   "outputs": [],
   "source": [
    "import numpy as np\n",
    "n, m = map(int, input().split())\n",
    "arr = np.zeros((n,m), int)\n",
    "for i in range(n):\n",
    "    arr[i]=input().split()\n",
    "print(np.max(np.min(arr, axis = 1)))"
   ]
  },
  {
   "cell_type": "markdown",
   "id": "c286338d",
   "metadata": {},
   "source": [
    "# Array Mathematics"
   ]
  },
  {
   "cell_type": "code",
   "execution_count": null,
   "id": "e7f28d1e",
   "metadata": {},
   "outputs": [],
   "source": [
    "import numpy as np\n",
    "n, m = map(int, input().split())\n",
    "a = np.zeros((n, m), dtype = int)\n",
    "for i in range(n):\n",
    "    a[i] = np.array([input().split()], int)\n",
    "b = np.zeros((n, m), dtype = int)\n",
    "for i in range(n):\n",
    "    b[i] = np.array([input().split()], int)\n",
    "print(a+b)\n",
    "print(a-b)\n",
    "print(a*b)\n",
    "print(a//b)\n",
    "print(a%b)\n",
    "print(a**b)"
   ]
  },
  {
   "cell_type": "markdown",
   "id": "9844a16d",
   "metadata": {},
   "source": [
    "# Mean, Var, and Std"
   ]
  },
  {
   "cell_type": "code",
   "execution_count": null,
   "id": "cc2f2d3c",
   "metadata": {},
   "outputs": [],
   "source": [
    "import numpy as np\n",
    "n, m = map(int, input().split())\n",
    "a = np.zeros((n,m), int)\n",
    "for i in range(n):\n",
    "    a[i]=input().split()\n",
    "print(np.mean(a, axis=1))\n",
    "print(np.var(a, axis=0))\n",
    "print(round(np.std(a),11))"
   ]
  },
  {
   "cell_type": "markdown",
   "id": "ce734ce2",
   "metadata": {},
   "source": [
    "# Dot and Cross"
   ]
  },
  {
   "cell_type": "code",
   "execution_count": null,
   "id": "2be52431",
   "metadata": {},
   "outputs": [],
   "source": [
    "import numpy as np\n",
    "n = int(input())\n",
    "a = np.zeros((n,n), int)\n",
    "b = np.zeros((n,n), int)\n",
    "for i in range(n):\n",
    "    a[i]=input().split()\n",
    "for i in range(n):\n",
    "    b[i]=input().split()\n",
    "print(np.dot(a,b))"
   ]
  },
  {
   "cell_type": "markdown",
   "id": "83eb98bd",
   "metadata": {},
   "source": [
    "# Inner and Outer"
   ]
  },
  {
   "cell_type": "code",
   "execution_count": null,
   "id": "0612cfb1",
   "metadata": {},
   "outputs": [],
   "source": [
    "import numpy as np\n",
    "a = np.array(input().split(), int)\n",
    "b = np.array(input().split(), int)\n",
    "print(np.inner(a,b))\n",
    "print(np.outer(a,b))"
   ]
  },
  {
   "cell_type": "markdown",
   "id": "562b1225",
   "metadata": {},
   "source": [
    "# Polynomials"
   ]
  },
  {
   "cell_type": "code",
   "execution_count": null,
   "id": "5d0c8901",
   "metadata": {},
   "outputs": [],
   "source": [
    "import numpy as np\n",
    "values = list(map(float, input().split()))\n",
    "x = int(input())\n",
    "print(np.polyval(values, x))"
   ]
  },
  {
   "cell_type": "markdown",
   "id": "e09d7274",
   "metadata": {},
   "source": [
    "# Linear Algebra"
   ]
  },
  {
   "cell_type": "code",
   "execution_count": null,
   "id": "76400379",
   "metadata": {},
   "outputs": [],
   "source": [
    "import numpy as np\n",
    "n = int(input())\n",
    "a = np.zeros((n,n), float)\n",
    "for i in range(n):\n",
    "    a[i]=input().split()\n",
    "print(round(np.linalg.det(a),2))"
   ]
  },
  {
   "cell_type": "markdown",
   "id": "0b25b764",
   "metadata": {},
   "source": [
    "# Re.split()"
   ]
  },
  {
   "cell_type": "code",
   "execution_count": null,
   "id": "18d9e69f",
   "metadata": {},
   "outputs": [],
   "source": [
    "regex_pattern = r\"\\W+\"\t# Do not delete 'r'."
   ]
  },
  {
   "cell_type": "markdown",
   "id": "55914c5f",
   "metadata": {},
   "source": [
    "# Detect Floating Point Number"
   ]
  },
  {
   "cell_type": "code",
   "execution_count": null,
   "id": "59ccd790",
   "metadata": {},
   "outputs": [],
   "source": [
    "import re\n",
    "t = int(input())\n",
    "for _ in range(t):\n",
    "    if re.match(r'^[+-]?[0-9]*\\.[0-9]+$', input()) == None:\n",
    "        print(\"False\")\n",
    "    else:\n",
    "        print(\"True\")"
   ]
  },
  {
   "cell_type": "markdown",
   "id": "84779a4b",
   "metadata": {},
   "source": [
    "# Group(), Groups() & Groupdict()"
   ]
  },
  {
   "cell_type": "code",
   "execution_count": null,
   "id": "9771d8cb",
   "metadata": {},
   "outputs": [],
   "source": [
    "import re\n",
    "s = re.search(r'([a-z0-9])\\1+', input())\n",
    "if s == None:\n",
    "    print(\"-1\")\n",
    "else:\n",
    "    print(s.group(1))"
   ]
  },
  {
   "cell_type": "markdown",
   "id": "a2826935",
   "metadata": {},
   "source": [
    "# Re.findall() & Re.finditer()"
   ]
  },
  {
   "cell_type": "code",
   "execution_count": null,
   "id": "9dcbc3f6",
   "metadata": {},
   "outputs": [],
   "source": [
    "import re\n",
    "s = re.findall(r'(?<=[qwrtypsdfghjklzxcvbnm])[aeiouAEIOU]{2,}(?=[qwrtypsdfghjklzxcvbnm])', input())\n",
    "if len(s) == 0:\n",
    "    print(\"-1\")\n",
    "else:\n",
    "    for i in s:\n",
    "        print(i)"
   ]
  },
  {
   "cell_type": "markdown",
   "id": "ca4ab4c8",
   "metadata": {},
   "source": [
    "# Validating phone numbers"
   ]
  },
  {
   "cell_type": "code",
   "execution_count": null,
   "id": "fee98098",
   "metadata": {},
   "outputs": [],
   "source": [
    "import re\n",
    "n = int(input())\n",
    "for _ in range(n):\n",
    "    if re.match(r'[789]\\d{9}$', input()):\n",
    "        print(\"YES\")\n",
    "    else:\n",
    "        print(\"NO\")"
   ]
  },
  {
   "cell_type": "markdown",
   "id": "0c62a37c",
   "metadata": {},
   "source": [
    "# Hex Color Code"
   ]
  },
  {
   "cell_type": "code",
   "execution_count": null,
   "id": "5d9ec447",
   "metadata": {},
   "outputs": [],
   "source": [
    "import re\n",
    "n = int(input())\n",
    "for _ in range(n):\n",
    "    r = re.findall(r'.(#[0-9A-Fa-f]{6}|#[0-9A-Fa-f]{3})', input())\n",
    "    if r != None:\n",
    "        for i in r:\n",
    "            print(i)"
   ]
  },
  {
   "cell_type": "markdown",
   "id": "a23763f9",
   "metadata": {},
   "source": [
    "# Detect HTML Tags, Attributes and Attribute Values"
   ]
  },
  {
   "cell_type": "code",
   "execution_count": null,
   "id": "f570f087",
   "metadata": {},
   "outputs": [],
   "source": [
    "from html.parser import HTMLParser\n",
    "class MyHTMLParser(HTMLParser):\n",
    "    def handle_starttag(self, tag, attrs):\n",
    "        print(tag)\n",
    "        for x in attrs:\n",
    "            print(\"-> \"+x[0]+\" > \"+x[1])\n",
    "parser = MyHTMLParser()\n",
    "n = int(input())\n",
    "for _ in range(n):\n",
    "    parser.feed(input())"
   ]
  },
  {
   "cell_type": "markdown",
   "id": "3e43eb62",
   "metadata": {},
   "source": [
    "# HTML Parser - Part 1"
   ]
  },
  {
   "cell_type": "code",
   "execution_count": null,
   "id": "174f9aab",
   "metadata": {},
   "outputs": [],
   "source": [
    "from html.parser import HTMLParser\n",
    "class MyHTMLParser(HTMLParser):\n",
    "    def handle_starttag(self, tag, attrs):\n",
    "        print (\"Start :\",tag)\n",
    "        for x in attrs:\n",
    "            print(\"->\", x[0], \">\", x[1])\n",
    "    def handle_endtag(self, tag):\n",
    "        print (\"End   :\",tag)\n",
    "    def handle_startendtag(self, tag, attrs):\n",
    "        print (\"Empty :\",tag)       \n",
    "        for x in attrs:\n",
    "            print(\"->\", x[0], \">\", x[1])\n",
    "parser = MyHTMLParser()\n",
    "n = int(input())\n",
    "for _ in range(n):\n",
    "    parser.feed(input())"
   ]
  },
  {
   "cell_type": "markdown",
   "id": "10ac192e",
   "metadata": {},
   "source": [
    "# HTML Parser - Part 2"
   ]
  },
  {
   "cell_type": "code",
   "execution_count": null,
   "id": "d5f928db",
   "metadata": {},
   "outputs": [],
   "source": [
    "from html.parser import HTMLParser\n",
    "class MyHTMLParser(HTMLParser):\n",
    "    def handle_comment(self, data):\n",
    "        if \"\\n\" in data:\n",
    "            print('>>> Multi-line Comment')\n",
    "            print(data)\n",
    "        else:\n",
    "            print('>>> Single-line Comment')\n",
    "            print(data)\n",
    "    def handle_data(self, data):\n",
    "        if '\\n' not in data:\n",
    "            print (\">>> Data\")\n",
    "            print(data)\n",
    "html = \"\"\n",
    "n = int(input())\n",
    "for i in range(n):\n",
    "    html+=input().rstrip()\n",
    "    html+='\\n'\n",
    "parser = MyHTMLParser()\n",
    "parser.feed(html)\n",
    "parser.close()"
   ]
  },
  {
   "cell_type": "markdown",
   "id": "0178752f",
   "metadata": {},
   "source": [
    "# Validating UID"
   ]
  },
  {
   "cell_type": "code",
   "execution_count": null,
   "id": "29252b64",
   "metadata": {},
   "outputs": [],
   "source": [
    "import re\n",
    "t = int(input())\n",
    "for _ in range(t):\n",
    "    match = re.match(r\"^(?=(?:[a-z\\d]*[A-Z]){2})(?=(?:\\D*\\d){3})(?:([a-zA-Z\\d])(?!.*\\1)){10}$\", input())\n",
    "    if match:\n",
    "        print(\"Valid\")\n",
    "    else:\n",
    "        print(\"Invalid\")"
   ]
  },
  {
   "cell_type": "markdown",
   "id": "c37cfe46",
   "metadata": {},
   "source": [
    "# Validating and Parsing Email Addresses"
   ]
  },
  {
   "cell_type": "code",
   "execution_count": null,
   "id": "a84490e9",
   "metadata": {},
   "outputs": [],
   "source": [
    "import re\n",
    "n = int(input())\n",
    "for _ in range(n):\n",
    "    name, mail = input().split()\n",
    "    match = re.match(r'<[A-Za-z](\\w|-|\\.|_)+@[A-Za-z]+\\.[A-Za-z]{1,3}>',mail)\n",
    "    if match:\n",
    "        print(name, mail)"
   ]
  },
  {
   "cell_type": "markdown",
   "id": "c3128852",
   "metadata": {},
   "source": [
    "# Validating Credit Card Numbers"
   ]
  },
  {
   "cell_type": "code",
   "execution_count": null,
   "id": "7c831259",
   "metadata": {},
   "outputs": [],
   "source": [
    "import re\n",
    "n = int(input())\n",
    "for _ in range(n):\n",
    "    crc = input()\n",
    "    match = re.match(r'^[456]([\\d]{15}|[\\d]{3}(-[\\d]{4}){3})$', crc)\n",
    "    if match and not re.search(r'(\\d)\\1{3}', crc.replace(\"-\", \"\")) :\n",
    "        print(\"Valid\")\n",
    "    else:\n",
    "        print(\"Invalid\")"
   ]
  },
  {
   "cell_type": "markdown",
   "id": "7d92d09f",
   "metadata": {},
   "source": [
    "# Re.start() & Re.end()"
   ]
  },
  {
   "cell_type": "code",
   "execution_count": null,
   "id": "31335bb5",
   "metadata": {},
   "outputs": [],
   "source": [
    "import re\n",
    "s = input()\n",
    "k = input()\n",
    "match = re.search(k,s)\n",
    "pattern = re.compile(k)\n",
    "if match:\n",
    "    while match:\n",
    "        print((match.start(), match.end()-1))\n",
    "        match= pattern.search(s, match.start()+1)\n",
    "else:\n",
    "    print((-1,-1))"
   ]
  },
  {
   "cell_type": "markdown",
   "id": "32601cd3",
   "metadata": {},
   "source": [
    "# alidating Roman Numerals"
   ]
  },
  {
   "cell_type": "code",
   "execution_count": null,
   "id": "b2b31796",
   "metadata": {},
   "outputs": [],
   "source": [
    "regex_pattern = r\"^M{0,3}(CM|CD|D?C{0,3})(XC|XL|L?X{0,3})(IX|IV|V?I{0,3})$\"\t# Do not delete 'r'."
   ]
  },
  {
   "cell_type": "markdown",
   "id": "118fb5b0",
   "metadata": {},
   "source": [
    "# Regex Substitution"
   ]
  },
  {
   "cell_type": "code",
   "execution_count": null,
   "id": "856f5a88",
   "metadata": {},
   "outputs": [],
   "source": [
    "import re\n",
    "n = int(input())\n",
    "for _ in range(n):\n",
    "    print(re.sub(r'(?<= )(\\|\\|)(?= )', 'or', re.sub(r'(?<= )(&&)(?= )', 'and', input())))"
   ]
  },
  {
   "cell_type": "markdown",
   "id": "c4e75400",
   "metadata": {},
   "source": [
    "# Word Order"
   ]
  },
  {
   "cell_type": "code",
   "execution_count": null,
   "id": "1fb36857",
   "metadata": {},
   "outputs": [],
   "source": [
    "from collections import defaultdict\n",
    "n = int(input())\n",
    "d = defaultdict(list)\n",
    "for _ in range(n):\n",
    "    elem = input()\n",
    "    d[elem].append(1)\n",
    "print(len(d.items()))\n",
    "for i in d.items():\n",
    "    print(len(i[1]), end= ' ')"
   ]
  },
  {
   "cell_type": "markdown",
   "id": "f85df625",
   "metadata": {},
   "source": [
    "# Company Logo"
   ]
  },
  {
   "cell_type": "code",
   "execution_count": null,
   "id": "171ae5fd",
   "metadata": {},
   "outputs": [],
   "source": [
    "#!/bin/python3\n",
    "\n",
    "import math\n",
    "import os\n",
    "import random\n",
    "import re\n",
    "import sys\n",
    "from collections import Counter\n",
    "\n",
    "\n",
    "if __name__ == '__main__':\n",
    "    s = sorted(input())\n",
    "    three_most_common = Counter(s).most_common(3)\n",
    "    for occ, char in three_most_common:\n",
    "        print(occ, char)"
   ]
  },
  {
   "cell_type": "markdown",
   "id": "73ca37f5",
   "metadata": {},
   "source": [
    "# Validating Postal Codes"
   ]
  },
  {
   "cell_type": "code",
   "execution_count": null,
   "id": "924a7ec3",
   "metadata": {},
   "outputs": [],
   "source": [
    "regex_integer_in_range = r\"^[1-9][0-9]{5}$\"\t# Do not delete 'r'.\n",
    "regex_alternating_repetitive_digit_pair = r\"(\\d)(?=.\\1)\"\t# Do not delete 'r'."
   ]
  }
 ],
 "metadata": {
  "kernelspec": {
   "display_name": "Python 3 (ipykernel)",
   "language": "python",
   "name": "python3"
  },
  "language_info": {
   "codemirror_mode": {
    "name": "ipython",
    "version": 3
   },
   "file_extension": ".py",
   "mimetype": "text/x-python",
   "name": "python",
   "nbconvert_exporter": "python",
   "pygments_lexer": "ipython3",
   "version": "3.9.7"
  }
 },
 "nbformat": 4,
 "nbformat_minor": 5
}
